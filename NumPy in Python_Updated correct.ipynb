{
 "cells": [
  {
   "cell_type": "markdown",
   "id": "30f665b8",
   "metadata": {},
   "source": [
    "## NumPy Basics"
   ]
  },
  {
   "cell_type": "markdown",
   "id": "c5325e77",
   "metadata": {},
   "source": [
    "#### NumPy is a fundamental package for scientific computing in Python.\n",
    "- It provides support for large multi-dimensional arrays and matrices, along with a large collection of high-level mathematical functions to operate on these arrays."
   ]
  },
  {
   "cell_type": "markdown",
   "id": "b782e0c2",
   "metadata": {},
   "source": [
    "#### Importing NumPy\n",
    "- NumPy is usually imported under the alias 'np'."
   ]
  },
  {
   "cell_type": "code",
   "execution_count": 16,
   "id": "e6435300",
   "metadata": {},
   "outputs": [],
   "source": [
    "import numpy as np"
   ]
  },
  {
   "cell_type": "markdown",
   "id": "87125943",
   "metadata": {},
   "source": [
    "#### Creating Arrays\n",
    "- NumPy arrays can be created from Python lists or tuples using the array() function."
   ]
  },
  {
   "cell_type": "code",
   "execution_count": 18,
   "id": "eb1216fa",
   "metadata": {
    "scrolled": true
   },
   "outputs": [
    {
     "name": "stdout",
     "output_type": "stream",
     "text": [
      "[1 2 3 4 5]\n"
     ]
    }
   ],
   "source": [
    "array_from_list = np.array([1, 2, 3, 4, 5])\n",
    "print(array_from_list)"
   ]
  },
  {
   "cell_type": "code",
   "execution_count": 17,
   "id": "c4562ffd",
   "metadata": {},
   "outputs": [
    {
     "name": "stdout",
     "output_type": "stream",
     "text": [
      "[0. 0. 0. 0. 0.] [1. 1. 1. 1. 1.] [7 7 7 7 7]\n"
     ]
    }
   ],
   "source": [
    "# Creating arrays with specific values\n",
    "zeros_array = np.zeros(5)  # Array of zeros\n",
    "ones_array = np.ones(5)  # Array of ones\n",
    "full_array = np.full(5, 7)  # Array of sevens\n",
    "print(zeros_array, ones_array, full_array)"
   ]
  },
  {
   "cell_type": "code",
   "execution_count": null,
   "id": "d0cf5430",
   "metadata": {},
   "outputs": [],
   "source": [
    "# Practice Questions:\n",
    "# 1. Create a NumPy array from a list of numbers [10, 20, 30, 40, 50].\n",
    "# 2. Create a NumPy array of ten zeros.\n",
    "# 3. Create a NumPy array of five ones."
   ]
  },
  {
   "cell_type": "code",
   "execution_count": 5,
   "id": "8d7af9ad-995d-4668-b375-00513f760e19",
   "metadata": {},
   "outputs": [
    {
     "name": "stdout",
     "output_type": "stream",
     "text": [
      "[10 20 30 40 50] [0. 0. 0. 0. 0. 0. 0. 0. 0. 0.] [1. 1. 1. 1. 1.]\n"
     ]
    }
   ],
   "source": [
    "import numpy as np\n",
    "array_list = np.array([10, 20, 30, 40, 50])\n",
    "array_zeros = np.zeros(10)\n",
    "array_ones = np.ones(5)\n",
    "print(array_list, array_zeros, array_ones)"
   ]
  },
  {
   "cell_type": "code",
   "execution_count": 6,
   "id": "5718f7c3",
   "metadata": {},
   "outputs": [
    {
     "data": {
      "text/plain": [
       "array([[6.23042070e-307, 1.33512376e-306, 1.11261230e-306],\n",
       "       [7.56577399e-307, 9.34600963e-307, 1.05699581e-307]])"
      ]
     },
     "execution_count": 6,
     "metadata": {},
     "output_type": "execute_result"
    }
   ],
   "source": [
    "array_empty = np.empty(shape = (2,3))\n",
    "array_empty"
   ]
  },
  {
   "cell_type": "code",
   "execution_count": 24,
   "id": "530a7c37",
   "metadata": {
    "scrolled": true
   },
   "outputs": [
    {
     "name": "stdout",
     "output_type": "stream",
     "text": [
      "[[0. 0. 0.]\n",
      " [0. 0. 0.]]\n",
      "\n",
      " [[0 0 0]\n",
      " [0 0 0]]\n"
     ]
    }
   ],
   "source": [
    "# zeros\n",
    "array_0s = np.zeros(shape  = (2,3))\n",
    "print(array_0s)\n",
    "\n",
    "array_0s = np.zeros(shape = (2,3), dtype = np.int8) \n",
    "print('\\n',array_0s)"
   ]
  },
  {
   "cell_type": "code",
   "execution_count": 6,
   "id": "c5b6b35b",
   "metadata": {},
   "outputs": [
    {
     "name": "stdout",
     "output_type": "stream",
     "text": [
      "\n",
      " [[1 1 1]\n",
      " [1 1 1]]\n"
     ]
    }
   ],
   "source": [
    "# ones\n",
    "array_1s = np.ones(shape  = (2,3), dtype = np.int8)\n",
    "print('\\n',array_1s)"
   ]
  },
  {
   "cell_type": "code",
   "execution_count": 26,
   "id": "1001d12c",
   "metadata": {},
   "outputs": [
    {
     "data": {
      "text/plain": [
       "array([[2, 2, 2],\n",
       "       [2, 2, 2]])"
      ]
     },
     "execution_count": 26,
     "metadata": {},
     "output_type": "execute_result"
    }
   ],
   "source": [
    "# full\n",
    "array_full = np.full(shape = (2,3), fill_value = 2) \n",
    "# One additional mandatory argument - fill_value -> scalar\n",
    "array_full"
   ]
  },
  {
   "cell_type": "code",
   "execution_count": 8,
   "id": "38fedcb4",
   "metadata": {},
   "outputs": [
    {
     "data": {
      "text/plain": [
       "array([['Three-Six-Five', 'Three-Six-Five', 'Three-Six-Five'],\n",
       "       ['Three-Six-Five', 'Three-Six-Five', 'Three-Six-Five']],\n",
       "      dtype='<U14')"
      ]
     },
     "execution_count": 8,
     "metadata": {},
     "output_type": "execute_result"
    }
   ],
   "source": [
    "array_full = np.full(shape = (2,3), fill_value = 'Three-Six-Five')\n",
    "array_full"
   ]
  },
  {
   "cell_type": "code",
   "execution_count": 28,
   "id": "bf88f88a",
   "metadata": {},
   "outputs": [
    {
     "data": {
      "text/plain": [
       "array([[ 1,  0,  9,  2,  2],\n",
       "       [ 3, 23,  4,  5,  1],\n",
       "       [ 0,  2,  3,  4,  1]])"
      ]
     },
     "execution_count": 28,
     "metadata": {},
     "output_type": "execute_result"
    }
   ],
   "source": [
    "matrix_A = np.array([[1,0,9,2,2],[3,23,4,5,1],[0,2,3,4,1]])\n",
    "matrix_A"
   ]
  },
  {
   "cell_type": "code",
   "execution_count": 29,
   "id": "f57155e2",
   "metadata": {},
   "outputs": [
    {
     "name": "stdout",
     "output_type": "stream",
     "text": [
      "[[      0       0       0       0       0]\n",
      " [      0       0       0       0       0]\n",
      " [   1884       0       0 6357091       0]]\n"
     ]
    }
   ],
   "source": [
    "array_empty_like = np.empty_like(matrix_A)    \n",
    "\n",
    "# Shape and type are like the prototype. \n",
    "# If we want to override this, we can define dtype and shape and pass different values (but why even use empty_like then). \n",
    "\n",
    "print(array_empty_like)"
   ]
  },
  {
   "cell_type": "code",
   "execution_count": 30,
   "id": "624d37b4",
   "metadata": {
    "scrolled": true
   },
   "outputs": [
    {
     "name": "stdout",
     "output_type": "stream",
     "text": [
      "[[0 0 0 0 0]\n",
      " [0 0 0 0 0]\n",
      " [0 0 0 0 0]]\n"
     ]
    }
   ],
   "source": [
    "array_0s_like = np.zeros_like(matrix_A)    \n",
    "print(array_0s_like)\n",
    "\n",
    "# We have corresponding functions for 1s and full as well."
   ]
  },
  {
   "cell_type": "code",
   "execution_count": 49,
   "id": "2a25cf8b",
   "metadata": {},
   "outputs": [],
   "source": [
    "# Practice questions:\n",
    "# 1. Generate 4 arrays of size 10:\n",
    "# A) The first one should be \"empty\"\n",
    "# B) The second one should be full of 0s\n",
    "# C) The third one should be full of 1s\n",
    "# D) The last one should be full of 2s\n",
    "\n",
    "# 2. Generate 4 more arrays. This time, they should be 2 by 4 arrays"
   ]
  },
  {
   "cell_type": "code",
   "execution_count": 13,
   "id": "993c1735-45f8-4e66-9f88-42c47b4d9813",
   "metadata": {},
   "outputs": [
    {
     "name": "stdout",
     "output_type": "stream",
     "text": [
      "\n",
      " [4 4 4 4 4 4 4 4 4 4] [[1.19540586e-311 2.47032823e-322 0.00000000e+000]\n",
      " [0.00000000e+000 1.08221785e-312 8.75983079e+164]\n",
      " [5.45118365e-090 1.56082890e+161 1.53471084e-052]\n",
      " [2.77235459e+180 3.99910963e+252 4.46786204e-062]] [[0 0 0 0 0]\n",
      " [0 0 0 0 0]\n",
      " [0 0 0 0 0]] [[1 1 1 1 1]\n",
      " [1 1 1 1 1]] [[2 2]\n",
      " [2 2]\n",
      " [2 2]] [[10 10 10 10]\n",
      " [10 10 10 10]]\n"
     ]
    }
   ],
   "source": [
    "import numpy as np\n",
    "array_four = np.full(10, 4)\n",
    "array_empty = np.empty(shape =(4, 3))\n",
    "full_of_zeros = np.full(shape = (3, 5), fill_value = 0)\n",
    "full_of_ones = np.full(shape = (2, 5), fill_value = 1)\n",
    "full_of_twos = np.full(shape = (3, 2), fill_value = 2)\n",
    "array_fours = np.full(shape = (2, 4), fill_value = 10, dtype = np.int8)\n",
    "print(\"\\n\", array_four, array_empty, full_of_zeros, full_of_ones, full_of_twos, array_fours)"
   ]
  },
  {
   "cell_type": "markdown",
   "id": "f2eaca93",
   "metadata": {},
   "source": [
    "### Generating Data with NumPy\n",
    "\n",
    "- Creating arrays with arange() and linspace()\n",
    "- The arange() function generates an array with a range of values.\n"
   ]
  },
  {
   "cell_type": "code",
   "execution_count": 15,
   "id": "9f50a1c6",
   "metadata": {},
   "outputs": [
    {
     "data": {
      "text/plain": [
       "[0,\n",
       " 1,\n",
       " 2,\n",
       " 3,\n",
       " 4,\n",
       " 5,\n",
       " 6,\n",
       " 7,\n",
       " 8,\n",
       " 9,\n",
       " 10,\n",
       " 11,\n",
       " 12,\n",
       " 13,\n",
       " 14,\n",
       " 15,\n",
       " 16,\n",
       " 17,\n",
       " 18,\n",
       " 19,\n",
       " 20,\n",
       " 21,\n",
       " 22,\n",
       " 23,\n",
       " 24,\n",
       " 25,\n",
       " 26,\n",
       " 27,\n",
       " 28,\n",
       " 29]"
      ]
     },
     "execution_count": 15,
     "metadata": {},
     "output_type": "execute_result"
    }
   ],
   "source": [
    "#range(30)\n",
    "list(range(30))\n",
    "\n",
    "# range(30) results in a range object.\n",
    "# list(range(30)) creates a list with all the values in this range."
   ]
  },
  {
   "cell_type": "code",
   "execution_count": 14,
   "id": "053443b4",
   "metadata": {},
   "outputs": [
    {
     "data": {
      "text/plain": [
       "array([ 0,  1,  2,  3,  4,  5,  6,  7,  8,  9, 10, 11, 12, 13, 14, 15, 16,\n",
       "       17, 18, 19, 20, 21, 22, 23, 24, 25, 26, 27, 28, 29])"
      ]
     },
     "execution_count": 14,
     "metadata": {},
     "output_type": "execute_result"
    }
   ],
   "source": [
    "array_rng = np.arange(30)\n",
    "array_rng\n",
    "\n",
    "## Creates an ndarray with the values in this range."
   ]
  },
  {
   "cell_type": "code",
   "execution_count": null,
   "id": "09453263",
   "metadata": {},
   "outputs": [],
   "source": [
    "range_array = np.arange(0, 10, 2)  # Start, stop, step\n",
    "print(range_array)  # Output: [0, 2, 4, 6, 8]"
   ]
  },
  {
   "cell_type": "code",
   "execution_count": 16,
   "id": "fc2a0b85",
   "metadata": {},
   "outputs": [
    {
     "data": {
      "text/plain": [
       "array([ 0. ,  2.5,  5. ,  7.5, 10. , 12.5, 15. , 17.5, 20. , 22.5, 25. ,\n",
       "       27.5])"
      ]
     },
     "execution_count": 16,
     "metadata": {},
     "output_type": "execute_result"
    }
   ],
   "source": [
    "array_rng = np.arange(start = 0, stop =  30, step = 2.5)\n",
    "array_rng\n",
    "\n",
    "# \"Step\" doesn't have to be the same type as the values of the array. "
   ]
  },
  {
   "cell_type": "code",
   "execution_count": 39,
   "id": "6b0efc84",
   "metadata": {},
   "outputs": [
    {
     "data": {
      "text/plain": [
       "array([ 0. ,  2.5,  5. ,  7.5, 10. , 12.5, 15. , 17.5, 20. , 22.5, 25. ,\n",
       "       27.5], dtype=float32)"
      ]
     },
     "execution_count": 39,
     "metadata": {},
     "output_type": "execute_result"
    }
   ],
   "source": [
    "array_rng = np.arange(start = 0, stop =  30, step = 2.5, dtype = np.float32)\n",
    "# array_rng = np.arange(start = 0, stop =  30, step = 2.5, dtype = np.int32)\n",
    "array_rng\n",
    "\n",
    "# The casting happens after all the computations. "
   ]
  },
  {
   "cell_type": "code",
   "execution_count": null,
   "id": "5d30fea2",
   "metadata": {},
   "outputs": [],
   "source": [
    "# The linspace() function generates an array with evenly spaced values.\n",
    "linspace_array = np.linspace(0, 1, 5)  # Start, stop, number of points\n",
    "print(linspace_array)  # Output: [0., 0.25, 0.5, 0.75, 1.]"
   ]
  },
  {
   "cell_type": "code",
   "execution_count": 17,
   "id": "c7d4dd64",
   "metadata": {},
   "outputs": [
    {
     "name": "stdout",
     "output_type": "stream",
     "text": [
      "[[0.30513266 0.94747254 0.47772368]\n",
      " [0.10287732 0.88080836 0.44732652]]\n"
     ]
    }
   ],
   "source": [
    "# Generating random numbers\n",
    "random_array = np.random.random((2, 3))  # 2x3 array of random numbers between 0 and 1\n",
    "print(random_array)"
   ]
  },
  {
   "cell_type": "code",
   "execution_count": 18,
   "id": "00ee549c",
   "metadata": {},
   "outputs": [
    {
     "data": {
      "text/plain": [
       "array([[ 6, 35, 82, 80, 60],\n",
       "       [21, 51, 88, 17, 94],\n",
       "       [95, 59, 92, 92, 68]])"
      ]
     },
     "execution_count": 18,
     "metadata": {},
     "output_type": "execute_result"
    }
   ],
   "source": [
    "# Create a 5x5 array of random integers between 0 and 100\n",
    "randint_array = np.random.randint(0, 100, size=(3, 5))\n",
    "randint_array"
   ]
  },
  {
   "cell_type": "code",
   "execution_count": null,
   "id": "048ef676",
   "metadata": {},
   "outputs": [],
   "source": [
    "# Practice Questions:\n",
    "# 1. Create an array of numbers from 0 to 20 with a step of 5 using arange().\n",
    "# 2. Create an array of 10 numbers evenly spaced between 0 and 1 using linspace().\n",
    "# 3. Generate a 3x3 array of random numbers between 0 and 1."
   ]
  },
  {
   "cell_type": "code",
   "execution_count": 20,
   "id": "713b3fc5-74bb-4422-8f9a-71949699804c",
   "metadata": {},
   "outputs": [
    {
     "name": "stdout",
     "output_type": "stream",
     "text": [
      "[ 0  5 10 15] [0.         0.11111111 0.22222222 0.33333333 0.44444444 0.55555556\n",
      " 0.66666667 0.77777778 0.88888889 1.        ] [[0.95840488 0.74909452 0.76775047]\n",
      " [0.66279269 0.61971378 0.58132598]\n",
      " [0.26846662 0.29495733 0.71324374]]\n"
     ]
    }
   ],
   "source": [
    "import numpy as np\n",
    "array_range = np.arange(0, 20, 5)\n",
    "array_linspace = np.linspace(0, 1, 10)\n",
    "array_random = np.random.random((3, 3))\n",
    "\n",
    "print(array_range, array_linspace, array_random)"
   ]
  },
  {
   "cell_type": "markdown",
   "id": "8bd379e7",
   "metadata": {},
   "source": [
    "## NumPy Fundamentals"
   ]
  },
  {
   "cell_type": "markdown",
   "id": "fc6a9265",
   "metadata": {},
   "source": [
    "#### Array Attributes\n",
    "- NumPy arrays have attributes such as shape, size, and ndim."
   ]
  },
  {
   "cell_type": "code",
   "execution_count": 16,
   "id": "fe7a9619",
   "metadata": {
    "scrolled": true
   },
   "outputs": [
    {
     "name": "stdout",
     "output_type": "stream",
     "text": [
      "(2, 3)\n",
      "6\n",
      "2\n"
     ]
    }
   ],
   "source": [
    "arr = np.array([[1, 2, 3], [4, 5, 6]])\n",
    "print(arr.shape)  # Output: (2, 3)\n",
    "print(arr.size)  # Output: 6\n",
    "print(arr.ndim)  # Output: 2"
   ]
  },
  {
   "cell_type": "markdown",
   "id": "8a6bcef1",
   "metadata": {},
   "source": [
    "#### Array Indexing and Slicing\n",
    "- You can index and slice NumPy arrays just like Python lists."
   ]
  },
  {
   "cell_type": "code",
   "execution_count": 32,
   "id": "a7df0557",
   "metadata": {
    "scrolled": true
   },
   "outputs": [
    {
     "name": "stdout",
     "output_type": "stream",
     "text": [
      "[[1 2 3]\n",
      " [4 5 6]]\n",
      "2\n",
      "[3 6]\n",
      "[4 5 6]\n"
     ]
    }
   ],
   "source": [
    "print(arr)\n",
    "print(arr[0, 1])  # Output: 2 (element at row 0, column 1)\n",
    "print(arr[:, 2])  # Output: [2, 5] (all rows, column 1)\n",
    "print(arr[1, :])  # Output: [4, 5, 6] (row 1, all columns)"
   ]
  },
  {
   "cell_type": "code",
   "execution_count": 18,
   "id": "fe07102e-fe09-4ea3-a443-18f325975a3e",
   "metadata": {},
   "outputs": [
    {
     "name": "stdout",
     "output_type": "stream",
     "text": [
      "3\n"
     ]
    }
   ],
   "source": [
    "print(arr[0,2])"
   ]
  },
  {
   "cell_type": "code",
   "execution_count": 23,
   "id": "f69761d1-9a7e-424b-929c-e3af3466bc81",
   "metadata": {},
   "outputs": [
    {
     "name": "stdout",
     "output_type": "stream",
     "text": [
      "[1 2 3]\n"
     ]
    }
   ],
   "source": [
    "print(arr[0,:])"
   ]
  },
  {
   "cell_type": "code",
   "execution_count": 41,
   "id": "3c94eb98-6936-4acd-84bd-5977d4a2670e",
   "metadata": {},
   "outputs": [
    {
     "name": "stdout",
     "output_type": "stream",
     "text": [
      "[1 4]\n"
     ]
    }
   ],
   "source": [
    "print(arr[:,0])"
   ]
  },
  {
   "cell_type": "markdown",
   "id": "6949a844",
   "metadata": {},
   "source": [
    "#### Array reshaping"
   ]
  },
  {
   "cell_type": "code",
   "execution_count": 29,
   "id": "c084cfcc",
   "metadata": {
    "scrolled": true
   },
   "outputs": [
    {
     "name": "stdout",
     "output_type": "stream",
     "text": [
      "[[0 0]\n",
      " [0 0]\n",
      " [1 0]\n",
      " [0 0]\n",
      " [1 0]]\n"
     ]
    }
   ],
   "source": [
    "a =np.array([0,0,0,0,1,0,0,0,1,0])\n",
    "# We can reshape the array in any dimension, to do so we use the NumPy method : reshape.\n",
    "\n",
    "b = a.reshape(5,2)\n",
    "print(b)"
   ]
  },
  {
   "cell_type": "markdown",
   "id": "648fc269",
   "metadata": {},
   "source": [
    "#### Assigning Values"
   ]
  },
  {
   "cell_type": "code",
   "execution_count": 48,
   "id": "692a5283",
   "metadata": {},
   "outputs": [
    {
     "data": {
      "text/plain": [
       "array([[1, 2, 3],\n",
       "       [4, 5, 6]])"
      ]
     },
     "execution_count": 48,
     "metadata": {},
     "output_type": "execute_result"
    }
   ],
   "source": [
    "array_a = np.array([[1,2,3],[4,5,6]])\n",
    "array_a"
   ]
  },
  {
   "cell_type": "code",
   "execution_count": 45,
   "id": "8717e33f-ce38-4d5f-8ff2-5a521a9d0504",
   "metadata": {},
   "outputs": [
    {
     "data": {
      "text/plain": [
       "array([[ 2,  4,  5],\n",
       "       [ 4, 67,  8]])"
      ]
     },
     "execution_count": 45,
     "metadata": {},
     "output_type": "execute_result"
    }
   ],
   "source": [
    "leye_array = np.array([[2,4,5], [4,67,8]])\n",
    "leye_array"
   ]
  },
  {
   "cell_type": "code",
   "execution_count": 49,
   "id": "401ec4dd",
   "metadata": {},
   "outputs": [
    {
     "data": {
      "text/plain": [
       "array([[1, 2, 3],\n",
       "       [4, 5, 9]])"
      ]
     },
     "execution_count": 49,
     "metadata": {},
     "output_type": "execute_result"
    }
   ],
   "source": [
    "# Assign a value to an individual element.\n",
    "array_a[1,2] = 9\n",
    "array_a "
   ]
  },
  {
   "cell_type": "code",
   "execution_count": 39,
   "id": "cb684ae8",
   "metadata": {},
   "outputs": [
    {
     "data": {
      "text/plain": [
       "array([[9, 9, 9],\n",
       "       [4, 5, 9]])"
      ]
     },
     "execution_count": 39,
     "metadata": {},
     "output_type": "execute_result"
    }
   ],
   "source": [
    "# Assign a value to an entire row.\n",
    "array_a[0] = 9\n",
    "array_a"
   ]
  },
  {
   "cell_type": "code",
   "execution_count": 50,
   "id": "98c108cc",
   "metadata": {},
   "outputs": [
    {
     "data": {
      "text/plain": [
       "array([[9, 2, 3],\n",
       "       [9, 5, 9]])"
      ]
     },
     "execution_count": 50,
     "metadata": {},
     "output_type": "execute_result"
    }
   ],
   "source": [
    "# Assign a value to an entire column.\n",
    "array_a[:,0] = 9\n",
    "array_a"
   ]
  },
  {
   "cell_type": "code",
   "execution_count": 51,
   "id": "49c90644",
   "metadata": {},
   "outputs": [
    {
     "data": {
      "text/plain": [
       "array([[9, 2, 3],\n",
       "       [1, 3, 8]])"
      ]
     },
     "execution_count": 51,
     "metadata": {},
     "output_type": "execute_result"
    }
   ],
   "source": [
    "# Assign different values to an entire row via a list.\n",
    "list_a = [1,3,8]\n",
    "array_a[1] = list_a\n",
    "array_a"
   ]
  },
  {
   "cell_type": "code",
   "execution_count": 52,
   "id": "5f9d0daf",
   "metadata": {},
   "outputs": [
    {
     "data": {
      "text/plain": [
       "array([[9, 9, 9],\n",
       "       [9, 9, 9]])"
      ]
     },
     "execution_count": 52,
     "metadata": {},
     "output_type": "execute_result"
    }
   ],
   "source": [
    "# Assign the same value to all the individual elements in the array.\n",
    "array_a[:] = 9\n",
    "array_a"
   ]
  },
  {
   "cell_type": "code",
   "execution_count": 53,
   "id": "95c917ee",
   "metadata": {},
   "outputs": [
    {
     "data": {
      "text/plain": [
       "9"
      ]
     },
     "execution_count": 53,
     "metadata": {},
     "output_type": "execute_result"
    }
   ],
   "source": [
    "array_a = 9\n",
    "array_a"
   ]
  },
  {
   "cell_type": "code",
   "execution_count": 54,
   "id": "be5fc3f8",
   "metadata": {},
   "outputs": [],
   "source": [
    "# Practice Questions:\n",
    "\n",
    "array_1D = np.array([10,11,12,13, 14])\n",
    "\n",
    "array_2D = np.array([[20,30,40,50,60], [43,54,65,76,87], [11,22,33,44,55]])\n",
    "\n",
    "array_3D = np.array([[[1,2,3,4,5], [11,21,31,41,51]], [[11,12,13,14,15], [51,52,53,54,5]]])\n",
    "\n",
    "\n",
    "# 1. Display the first element (not necessarily individual element) for each of the 3 arrays we defined above\n",
    "\n",
    "# 2. Call the first individual element of the each of the 3 arrays.\n",
    "\n",
    "# 3. Uses negative indices to display the last element of each array"
   ]
  },
  {
   "cell_type": "markdown",
   "id": "a8680235",
   "metadata": {},
   "source": [
    "#### More on Slicing"
   ]
  },
  {
   "cell_type": "code",
   "execution_count": 60,
   "id": "93732ab8",
   "metadata": {},
   "outputs": [
    {
     "data": {
      "text/plain": [
       "array([[1, 2, 3],\n",
       "       [4, 5, 6],\n",
       "       [2, 5, 7]])"
      ]
     },
     "execution_count": 60,
     "metadata": {},
     "output_type": "execute_result"
    }
   ],
   "source": [
    "matrix_A = np.array([[1,2,3],[4,5,6],[2,5,7]])\n",
    "matrix_A"
   ]
  },
  {
   "cell_type": "code",
   "execution_count": 61,
   "id": "a6aa3a8e",
   "metadata": {},
   "outputs": [
    {
     "data": {
      "text/plain": [
       "array([[1, 2, 3],\n",
       "       [4, 5, 6],\n",
       "       [2, 5, 7]])"
      ]
     },
     "execution_count": 61,
     "metadata": {},
     "output_type": "execute_result"
    }
   ],
   "source": [
    "matrix_A[:]\n",
    "## The default start and stop for slicing are the origin and the end of the array. \n",
    "## Hence, [:] includes the entire array."
   ]
  },
  {
   "cell_type": "code",
   "execution_count": 62,
   "id": "e710b864",
   "metadata": {},
   "outputs": [
    {
     "data": {
      "text/plain": [
       "numpy.ndarray"
      ]
     },
     "execution_count": 62,
     "metadata": {},
     "output_type": "execute_result"
    }
   ],
   "source": [
    "type(matrix_A[:,:])\n",
    "## [:,:] -> All rows, and all columns."
   ]
  },
  {
   "cell_type": "code",
   "execution_count": 71,
   "id": "d2bd8bc6",
   "metadata": {},
   "outputs": [
    {
     "data": {
      "text/plain": [
       "array([[1, 2, 3],\n",
       "       [4, 5, 6]])"
      ]
     },
     "execution_count": 71,
     "metadata": {},
     "output_type": "execute_result"
    }
   ],
   "source": [
    "matrix_A[:2]\n",
    "# [:2] -> All the rows up to the 3rd one (excluding the third one)."
   ]
  },
  {
   "cell_type": "code",
   "execution_count": 74,
   "id": "daee8a19",
   "metadata": {},
   "outputs": [
    {
     "data": {
      "text/plain": [
       "array([[1, 2, 3],\n",
       "       [4, 5, 6],\n",
       "       [2, 5, 7]])"
      ]
     },
     "execution_count": 74,
     "metadata": {},
     "output_type": "execute_result"
    }
   ],
   "source": [
    "matrix_A[-3:]\n",
    "# [:-1] -> All the rows up to the last one."
   ]
  },
  {
   "cell_type": "code",
   "execution_count": 75,
   "id": "d1f10cb5",
   "metadata": {},
   "outputs": [
    {
     "data": {
      "text/plain": [
       "array([[2, 3],\n",
       "       [5, 6],\n",
       "       [5, 7]])"
      ]
     },
     "execution_count": 75,
     "metadata": {},
     "output_type": "execute_result"
    }
   ],
   "source": [
    "matrix_A[:,1:]\n",
    "# All the rows, but only the columns from the one with index 1 (second column) onwards."
   ]
  },
  {
   "cell_type": "code",
   "execution_count": 76,
   "id": "2abeff23",
   "metadata": {},
   "outputs": [
    {
     "data": {
      "text/plain": [
       "array([[5, 6],\n",
       "       [5, 7]])"
      ]
     },
     "execution_count": 76,
     "metadata": {},
     "output_type": "execute_result"
    }
   ],
   "source": [
    "matrix_A[1:,1:]\n",
    "# All the rows after the first one and all the columns after the first one."
   ]
  },
  {
   "cell_type": "markdown",
   "id": "b9260571",
   "metadata": {},
   "source": [
    "#### Stepwise slicing"
   ]
  },
  {
   "cell_type": "code",
   "execution_count": null,
   "id": "78cf0bbe",
   "metadata": {},
   "outputs": [],
   "source": [
    "matrix_B = np.array([[1,1,1,2,0], [3,6,6,7,4], [4,5,3,8,0]])\n",
    "matrix_B"
   ]
  },
  {
   "cell_type": "code",
   "execution_count": null,
   "id": "eca54986",
   "metadata": {},
   "outputs": [],
   "source": [
    "matrix_B[:,::2]\n",
    "# The syntax for each dimension is \"[start : stop : step]\"."
   ]
  },
  {
   "cell_type": "code",
   "execution_count": null,
   "id": "9f831a15",
   "metadata": {},
   "outputs": [],
   "source": [
    "# Practice Questions:\n",
    "\n",
    "array_1D = np.array([10,11,12,13, 14])\n",
    "\n",
    "array_2D = np.array([[20,30,40,50,60], [43,54,65,76,87], [11,22,33,44,55]])\n",
    "\n",
    "array_3D = np.array([[[1,2,3,4,5], [11,21,31,41,51]], [[11,12,13,14,15], [51,52,53,54,5]]])\n",
    "\n",
    "# 1. Slice the first column of the 2-D array.\n",
    "# 2. Slice the last two columns of the 2-nd row of the 2-D array\n",
    "# 3. Slice the 2-nd row of the 2-D array excluding the last two columns"
   ]
  },
  {
   "cell_type": "markdown",
   "id": "34b7d292",
   "metadata": {},
   "source": [
    "## Working with Arrays"
   ]
  },
  {
   "cell_type": "markdown",
   "id": "d572bfb1",
   "metadata": {},
   "source": [
    "- Basic Operations\n",
    "- You can perform element-wise operations on NumPy arrays.\n",
    "- Element-wise means that whatever mathematical computation we are conducting , we are doing it to each element of the array"
   ]
  },
  {
   "cell_type": "code",
   "execution_count": null,
   "id": "c2102541",
   "metadata": {},
   "outputs": [],
   "source": [
    "a = np.array([1, 2, 3])\n",
    "b = np.array([4, 5, 6])\n",
    "print(a + b)  # Output: [5, 7, 9]\n",
    "print(a * b)  # Output: [4, 10, 18]\n",
    "print(a - b)  # Output: [-3, -3, -3]\n",
    "print(a / b)  # Output: [0.25, 0.4, 0.5]"
   ]
  },
  {
   "cell_type": "markdown",
   "id": "04e00124",
   "metadata": {},
   "source": [
    "#### Mathematical Functions\n",
    "- NumPy provides a variety of mathematical functions."
   ]
  },
  {
   "cell_type": "code",
   "execution_count": null,
   "id": "c76026a4",
   "metadata": {},
   "outputs": [],
   "source": [
    "print(np.sin(a))  # Output: [0.8415, 0.9093, 0.1411]\n",
    "print(np.log(a))  # Output: [0., 0.6931, 1.0986]\n",
    "print(np.sqrt(a))  # Output: [1., 1.4142, 1.7321]"
   ]
  },
  {
   "cell_type": "code",
   "execution_count": null,
   "id": "003fd4f1",
   "metadata": {},
   "outputs": [],
   "source": [
    "# Practice Questions:\n",
    "# 1. Create two NumPy arrays and perform element-wise addition, subtraction, multiplication, and division.\n",
    "# 2. Apply the numpy functions sin(), log(), and sqrt() to a NumPy array."
   ]
  },
  {
   "cell_type": "code",
   "execution_count": null,
   "id": "68a88ec8",
   "metadata": {},
   "outputs": [],
   "source": [
    "array_a = np.array([7,8,9])\n",
    "\n",
    "array_b = np.array([[1,2,3],[4,5,6]])"
   ]
  },
  {
   "cell_type": "markdown",
   "id": "26d0bb85",
   "metadata": {},
   "source": [
    "#### More operations"
   ]
  },
  {
   "cell_type": "code",
   "execution_count": null,
   "id": "ab76b0b0",
   "metadata": {},
   "outputs": [],
   "source": [
    "array_b * 2\n",
    "## Multiplying each element of array_b by 2"
   ]
  },
  {
   "cell_type": "code",
   "execution_count": 37,
   "id": "e8589c7c",
   "metadata": {},
   "outputs": [
    {
     "data": {
      "text/plain": [
       "[1, 2, 3]"
      ]
     },
     "execution_count": 37,
     "metadata": {},
     "output_type": "execute_result"
    }
   ],
   "source": [
    "list_a = [1,2,3]\n",
    "list_a + [2]\n",
    "list_a\n",
    "## Since lists don't work elementwise, we're concatenating [2] to list_a."
   ]
  },
  {
   "cell_type": "code",
   "execution_count": null,
   "id": "1b1d6616",
   "metadata": {},
   "outputs": [],
   "source": [
    "array_a + 2\n",
    "## Element Wise addition adds 2 to each element of array_a."
   ]
  },
  {
   "cell_type": "code",
   "execution_count": null,
   "id": "5ff5712f",
   "metadata": {},
   "outputs": [],
   "source": [
    "array_a * array_b[1]\n",
    "## Element Wise multiplication. \n",
    "## We multiply each individual element of array_a by its corresponding element in the second row of array_b."
   ]
  },
  {
   "cell_type": "code",
   "execution_count": null,
   "id": "9ff99fd7",
   "metadata": {},
   "outputs": [],
   "source": [
    "array_b - array_a\n",
    "## The order of the elements matters for elementwise subtraction, division, as well as other operations. "
   ]
  },
  {
   "cell_type": "code",
   "execution_count": null,
   "id": "291b1929",
   "metadata": {},
   "outputs": [],
   "source": [
    "# Practice questions\n",
    "\n",
    "array_1D = np.array([10,11,12,13, 14])\n",
    "\n",
    "array_2D = np.array([[20,30,40,50,60], [43,54,65,76,87], [11,22,33,44,55]])\n",
    "\n",
    "array_3D = np.array([[[1,2,3,4,5], [11,21,31,41,51]], [[11,12,13,14,15], [51,52,53,54,5]]])\n",
    "\n",
    "# 1. Add 2 to every element of the 3 arrays without overwriting their values.\n",
    "# 2. Multiply the values of each array by 100 without overwriting their values."
   ]
  },
  {
   "cell_type": "markdown",
   "id": "8ee1ad67",
   "metadata": {},
   "source": [
    "### Datatypes Supported by Numpy"
   ]
  },
  {
   "cell_type": "code",
   "execution_count": null,
   "id": "fb641fd2",
   "metadata": {},
   "outputs": [],
   "source": [
    "array_a = np.array([[1,2,3],[4,5,6]])\n",
    "array_a"
   ]
  },
  {
   "cell_type": "code",
   "execution_count": null,
   "id": "494faafb",
   "metadata": {},
   "outputs": [],
   "source": [
    "array_a = np.array([[1,2,3],[4,5,6]], dtype = np.float16)\n",
    "array_a\n",
    "# Defining all the values as floats (decimals)."
   ]
  },
  {
   "cell_type": "code",
   "execution_count": null,
   "id": "49b3e41e",
   "metadata": {},
   "outputs": [],
   "source": [
    "array_a = np.array([[1,2,3],[4,5,6]], dtype = np.complex64)\n",
    "array_a\n",
    "# Defining all the values as complex numbers."
   ]
  },
  {
   "cell_type": "code",
   "execution_count": null,
   "id": "e1aa527c",
   "metadata": {},
   "outputs": [],
   "source": [
    "array_a = np.array([[1,2,0],[4,5,6]], dtype = np.bool)\n",
    "array_a\n",
    "# Defining all the values as Booleans."
   ]
  },
  {
   "cell_type": "code",
   "execution_count": null,
   "id": "00c5ee83",
   "metadata": {},
   "outputs": [],
   "source": [
    "array_a = np.array([[10,2,3],[4,5,6]], dtype = np.str)\n",
    "array_a\n",
    "# Defining all the values as text."
   ]
  },
  {
   "cell_type": "markdown",
   "id": "a9e73364",
   "metadata": {},
   "source": [
    "#### Converting Data Type on Existing Arrays\n",
    "- The best way to change the data type of an existing array, is to make a copy of the array with the astype() method."
   ]
  },
  {
   "cell_type": "code",
   "execution_count": null,
   "id": "7e20fe74",
   "metadata": {},
   "outputs": [],
   "source": [
    "arr = np.array([1.1, 2.1, 3.1])\n",
    "print(arr.dtype)\n",
    "\n",
    "newarr = arr.astype(int)\n",
    "print(newarr.dtype)"
   ]
  },
  {
   "cell_type": "code",
   "execution_count": null,
   "id": "a45ead51",
   "metadata": {},
   "outputs": [],
   "source": [
    "# Practice Questions:\n",
    "\n",
    "array_1D = np.array([10,11,12,13,14])\n",
    "\n",
    "array_2D = np.array([[20,30,40,50,60], [43,54,65,76,87], [11,22,33,44,55]])\n",
    "\n",
    "array_3D = np.array([[[1,2,3,4,5], [11,21,31,41,51]], [[11,12,13,14,15], [51,52,53,54,5]]])\n",
    "\n",
    "\n",
    "# Alter the code above to re-define the 3 arrays as the following datatypes:\n",
    "\n",
    "# array_1D -> NumPy Strings\n",
    "# array_2D -> Complex Numbers\n",
    "# array_3D -> 64-bit Floats"
   ]
  },
  {
   "cell_type": "markdown",
   "id": "50d02ef3",
   "metadata": {},
   "source": [
    "### Statistics with NumPy\n",
    "\n",
    "- NumPy provides various statistical functions to analyze data."
   ]
  },
  {
   "cell_type": "code",
   "execution_count": null,
   "id": "dfadd329",
   "metadata": {},
   "outputs": [],
   "source": [
    "data = np.array([1, 2, 3, 4, 5])\n",
    "\n",
    "# Mean, median, and standard deviation\n",
    "mean = np.mean(data)\n",
    "median = np.median(data)\n",
    "std_dev = np.std(data)\n",
    "print(\"Mean:\", mean)  # Output: Mean: 3.0\n",
    "print(\"Median:\", median)  # Output: Median: 3.0\n",
    "print(\"Standard Deviation:\", std_dev)  # Output: Standard Deviation: 1.4142"
   ]
  },
  {
   "cell_type": "code",
   "execution_count": null,
   "id": "d646e233",
   "metadata": {},
   "outputs": [],
   "source": [
    "# Sum and cumulative sum\n",
    "sum_data = np.sum(data)\n",
    "cumsum_data = np.cumsum(data)\n",
    "print(\"Sum:\", sum_data)  # Output: Sum: 15\n",
    "print(\"Cumulative Sum:\", cumsum_data)  # Output: Cumulative Sum: [ 1  3  6 10 15]"
   ]
  },
  {
   "cell_type": "code",
   "execution_count": null,
   "id": "fb110aa2",
   "metadata": {},
   "outputs": [],
   "source": [
    "# Practice Questions:\n",
    "# 1. Create a NumPy array of random numbers and compute the mean, median, and standard deviation.\n",
    "# 2. Compute the sum and cumulative sum of the array."
   ]
  },
  {
   "cell_type": "markdown",
   "id": "b7425d0c",
   "metadata": {},
   "source": [
    "#### You can also use the mean function to calculate the mean along a specific axis of a multi-dimensional array using the axis parameter."
   ]
  },
  {
   "cell_type": "code",
   "execution_count": null,
   "id": "22ef2c5e",
   "metadata": {},
   "outputs": [],
   "source": [
    "x = np.array([[1, 2, 3], [4, 5, 6]])\n",
    "print(np.mean(x, axis=0))"
   ]
  },
  {
   "cell_type": "markdown",
   "id": "b21adc69",
   "metadata": {},
   "source": [
    "#### Minimal and maximal values in numpy :\n",
    "- In NumPy, there are several functions that can be used to find the minimum value(s) of an array or matrix. These include:\n",
    "\n",
    "- np.min: This function returns the minimum value of an array or matrix.\n",
    "- np.amin: This function returns the minimum value of an array or matrix along a given axis.\n",
    "- np.minimum: This function returns an array or matrix with the element-wise minimum value between two input arrays or matrices.\n",
    "- np.minimum.reduce: This function applies the ufunc \"minimum\" to all elements of an input array or matrix along a given axis and returns the minimum value.\n",
    "- np.max: This function returns the maximum value of an array or matrix.\n",
    "- np.amax: This function returns the maximum value of an array or matrix along a given axis.\n",
    "- np.maximum: This function returns an array or matrix with the element-wise maximum value between two input arrays or matrices.\n",
    "- np.maximum.reduce: This function applies the ufunc \"maximum\" to all elements of an input array or matrix along a given axis and returns the maximum value.\n"
   ]
  },
  {
   "cell_type": "code",
   "execution_count": null,
   "id": "82278f55",
   "metadata": {},
   "outputs": [],
   "source": [
    "# Examples\n",
    "matrix_A = np.array([[1,0,0,3,1],[3,6,6,2,9],[4,5,3,8,0]])\n",
    "print(\"Matrix A: \\n\",matrix_A)\n",
    "print(\"Minimum value using np.min: \",np.min(matrix_A))\n",
    "print(\"Minimum value using np.amin along axis 0: \",np.amin(matrix_A, axis=0))\n",
    "print(\"Minimum value using np.amin along axis 1: \",np.amin(matrix_A, axis=1))\n",
    "print(\"Minimum value using np.minimum.reduce: \",np.minimum.reduce(matrix_A))\n",
    "print(\"Maximum value using np.max: \",np.max(matrix_A))\n",
    "print(\"Maximum value using np.amax along axis 0: \",np.amax(matrix_A, axis=0))\n",
    "print(\"Maximum value using np.amax along axis 1: \",np.amax(matrix_A, axis=1))\n",
    "print(\"Maximum value using np.maximum.reduce: \",np.maximum.reduce(matrix_A))"
   ]
  },
  {
   "cell_type": "markdown",
   "id": "bc3a1f0f",
   "metadata": {},
   "source": [
    "### Covariance and correlation\n",
    "- Covariance and correlation are two commonly used measures of the relationship between two variables.\n",
    "- Covariance measures the degree to which two variables are linearly related. A positive covariance indicates that the variables are positively correlated, while a negative covariance indicates that the variables are negatively correlated. The function np.cov() in NumPy can be used to calculate the covariance matrix between two or more variables.\n"
   ]
  },
  {
   "cell_type": "code",
   "execution_count": 30,
   "id": "97b438a8",
   "metadata": {},
   "outputs": [
    {
     "name": "stdout",
     "output_type": "stream",
     "text": [
      "Covariance matrix of matrix_A : \n",
      " [[ 1.5 -2.   2. ]\n",
      " [-2.   7.7 -7. ]\n",
      " [ 2.  -7.   8.5]]\n"
     ]
    }
   ],
   "source": [
    "matrix_A = np.array([[1,0,0,3,1],[3,6,6,2,9],[4,5,3,8,0]])\n",
    "cov_matrix = np.cov(matrix_A)\n",
    "print(\"Covariance matrix of matrix_A : \\n\",cov_matrix)"
   ]
  },
  {
   "cell_type": "markdown",
   "id": "f9910b51",
   "metadata": {},
   "source": [
    "- Correlation, on the other hand, is a normalized measure of the relationship between two variables. It ranges from -1 to 1, with -1 indicating a perfect negative correlation, 0 indicating no correlation, and 1 indicating a perfect positive correlation. The function np.corrcoef() in NumPy can be used to calculate the correlation matrix between two or more variables."
   ]
  },
  {
   "cell_type": "code",
   "execution_count": null,
   "id": "e073017f",
   "metadata": {},
   "outputs": [],
   "source": [
    "matrix_A = np.array([[1,0,0,3,1],[3,6,6,2,9],[4,5,3,8,0]])\n",
    "corr_matrix = np.corrcoef(matrix_A)\n",
    "print(\"Correlation matrix of matrix_A : \\n\",corr_matrix)"
   ]
  },
  {
   "cell_type": "markdown",
   "id": "35b939f7",
   "metadata": {},
   "source": [
    "- In the above example, the function np.cov() returns the covariance matrix of matrix_A and the function np.corrcoef() returns the correlation matrix of matrix_A."
   ]
  },
  {
   "cell_type": "markdown",
   "id": "62b963c3",
   "metadata": {},
   "source": [
    "### What’s a NAN in numpy :\n",
    "In the NumPy library, \"NaN\" stands for \"Not a Number.\" It is a special value that is used to represent missing or undefined data. For example, if you try to calculate the square root of a negative number, the result will be \"NaN.\"\n",
    "Here's an example of how you might use \"NaN\" in a NumPy array:\n"
   ]
  },
  {
   "cell_type": "code",
   "execution_count": null,
   "id": "a03b0280",
   "metadata": {},
   "outputs": [],
   "source": [
    "# create an array with some values\n",
    "a = np.array([1, 2, 3, 4, 5])"
   ]
  },
  {
   "cell_type": "code",
   "execution_count": null,
   "id": "10787cd5",
   "metadata": {},
   "outputs": [],
   "source": [
    "# set the second element to NaN\n",
    "a[1] = np.nan\n",
    "print(a)"
   ]
  }
 ],
 "metadata": {
  "kernelspec": {
   "display_name": "Python 3 (ipykernel)",
   "language": "python",
   "name": "python3"
  },
  "language_info": {
   "codemirror_mode": {
    "name": "ipython",
    "version": 3
   },
   "file_extension": ".py",
   "mimetype": "text/x-python",
   "name": "python",
   "nbconvert_exporter": "python",
   "pygments_lexer": "ipython3",
   "version": "3.11.7"
  }
 },
 "nbformat": 4,
 "nbformat_minor": 5
}
