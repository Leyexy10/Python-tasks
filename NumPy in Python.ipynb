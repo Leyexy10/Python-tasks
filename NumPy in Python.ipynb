{
 "cells": [
  {
   "cell_type": "markdown",
   "id": "c5325e77",
   "metadata": {},
   "source": [
    "## NumPy is a fundamental package for scientific computing in Python.\n",
    "- It provides support for large multi-dimensional arrays and matrices, along with a large collection of high-level mathematical functions to operate on these arrays."
   ]
  },
  {
   "cell_type": "markdown",
   "id": "30f665b8",
   "metadata": {},
   "source": [
    "## NumPy Basics"
   ]
  },
  {
   "cell_type": "markdown",
   "id": "b782e0c2",
   "metadata": {},
   "source": [
    "### Importing NumPy\n",
    "- NumPy is usually imported under the alias 'np'."
   ]
  },
  {
   "cell_type": "code",
   "execution_count": 2,
   "id": "e6435300",
   "metadata": {},
   "outputs": [],
   "source": [
    "import numpy as np"
   ]
  },
  {
   "cell_type": "markdown",
   "id": "87125943",
   "metadata": {},
   "source": [
    "### Creating Arrays\n",
    "- NumPy arrays can be created from Python lists or tuples using the array() function."
   ]
  },
  {
   "cell_type": "code",
   "execution_count": 3,
   "id": "eb1216fa",
   "metadata": {},
   "outputs": [
    {
     "name": "stdout",
     "output_type": "stream",
     "text": [
      "[1 2 3 4 5]\n"
     ]
    }
   ],
   "source": [
    "array_from_list = np.array([1, 2, 3, 4, 5])\n",
    "print(array_from_list)"
   ]
  },
  {
   "cell_type": "code",
   "execution_count": 4,
   "id": "c4562ffd",
   "metadata": {},
   "outputs": [
    {
     "name": "stdout",
     "output_type": "stream",
     "text": [
      "[0. 0. 0. 0. 0.] [1. 1. 1. 1. 1.] [7 7 7 7 7]\n"
     ]
    }
   ],
   "source": [
    "# Creating arrays with specific values\n",
    "zeros_array = np.zeros(5)  # Array of zeros\n",
    "ones_array = np.ones(5)  # Array of ones\n",
    "full_array = np.full(5, 7)  # Array of sevens\n",
    "print(zeros_array, ones_array, full_array)"
   ]
  },
  {
   "cell_type": "code",
   "execution_count": 5,
   "id": "d0cf5430",
   "metadata": {},
   "outputs": [],
   "source": [
    "# Practice Questions:\n",
    "# 1. Create a NumPy array from a list of numbers [10, 20, 30, 40, 50].\n",
    "# 2. Create a NumPy array of ten zeros.\n",
    "# 3. Create a NumPy array of five ones."
   ]
  },
  {
   "cell_type": "code",
   "execution_count": 6,
   "id": "6ab9cb36-4b14-42c1-b491-f81f8c5ff3e6",
   "metadata": {},
   "outputs": [
    {
     "name": "stdout",
     "output_type": "stream",
     "text": [
      "[10 20 30 40 50] [0. 0. 0. 0. 0. 0. 0. 0. 0. 0.] [1. 1. 1. 1. 1.]\n"
     ]
    }
   ],
   "source": [
    "import numpy as np\n",
    "array_of_list = np.array([10, 20, 30, 40, 50])\n",
    "zeros_array = np.zeros(10)\n",
    "array_of_ones = np.ones(5)\n",
    "print(array_of_list,zeros_array,array_of_ones)"
   ]
  },
  {
   "cell_type": "markdown",
   "id": "8bd379e7",
   "metadata": {},
   "source": [
    "## NumPy Fundamentals"
   ]
  },
  {
   "cell_type": "markdown",
   "id": "fc6a9265",
   "metadata": {},
   "source": [
    "### Array Attributes\n",
    "- NumPy arrays have attributes such as shape, size, and ndim."
   ]
  },
  {
   "cell_type": "code",
   "execution_count": 4,
   "id": "fe7a9619",
   "metadata": {},
   "outputs": [
    {
     "name": "stdout",
     "output_type": "stream",
     "text": [
      "(2, 3)\n",
      "6\n",
      "2\n"
     ]
    }
   ],
   "source": [
    "arr = np.array([[1, 2, 3], [4, 5, 6]])\n",
    "print(arr.shape)  # Output: (2, 3)\n",
    "print(arr.size)  # Output: 6\n",
    "print(arr.ndim)  # Output: 2"
   ]
  },
  {
   "cell_type": "markdown",
   "id": "8a6bcef1",
   "metadata": {},
   "source": [
    "### Array Indexing and Slicing\n",
    "- You can index and slice NumPy arrays just like Python lists."
   ]
  },
  {
   "cell_type": "code",
   "execution_count": 5,
   "id": "a7df0557",
   "metadata": {},
   "outputs": [
    {
     "name": "stdout",
     "output_type": "stream",
     "text": [
      "2\n",
      "[2 5]\n",
      "[4 5 6]\n"
     ]
    }
   ],
   "source": [
    "print(arr[0, 1])  # Output: 2 (element at row 0, column 1)\n",
    "print(arr[:, 1])  # Output: [2, 5] (all rows, column 1)\n",
    "print(arr[1, :])  # Output: [4, 5, 6] (row 1, all columns)"
   ]
  },
  {
   "cell_type": "code",
   "execution_count": null,
   "id": "8d381ca6",
   "metadata": {},
   "outputs": [],
   "source": [
    "# Practice Questions:\n",
    "# 1. Create a 3x3 NumPy array and print its shape, size, and number of dimensions.\n",
    "# 2. Print the element at the second row and third column of the array.\n",
    "# 3. Slice the array to get the first two columns."
   ]
  },
  {
   "cell_type": "code",
   "execution_count": 20,
   "id": "f56f20d3-0fb4-45e3-ad75-b05cb5938ee3",
   "metadata": {},
   "outputs": [
    {
     "name": "stdout",
     "output_type": "stream",
     "text": [
      "(1, 3, 3)\n",
      "9\n",
      "3\n",
      "8\n",
      "[[[ 3  4]\n",
      "  [ 6  7]\n",
      "  [ 9 10]]]\n"
     ]
    }
   ],
   "source": [
    "import numpy as np\n",
    "array = np.array([[[3,4,5],[6,7,8],[9,10,11]]])\n",
    "print(array.shape)\n",
    "print(array.size)\n",
    "print(array.ndim)\n",
    "print(array[0, 1, 2])\n",
    "print(array[:, :, :2])"
   ]
  },
  {
   "cell_type": "markdown",
   "id": "34b7d292",
   "metadata": {},
   "source": [
    "## Working with Arrays"
   ]
  },
  {
   "cell_type": "code",
   "execution_count": 1,
   "id": "fe4fccaa",
   "metadata": {},
   "outputs": [],
   "source": [
    "# Basic Operations\n",
    "# You can perform element-wise operations on NumPy arrays."
   ]
  },
  {
   "cell_type": "code",
   "execution_count": 21,
   "id": "c2102541",
   "metadata": {},
   "outputs": [
    {
     "name": "stdout",
     "output_type": "stream",
     "text": [
      "[5 7 9]\n",
      "[ 4 10 18]\n",
      "[-3 -3 -3]\n",
      "[0.25 0.4  0.5 ]\n"
     ]
    }
   ],
   "source": [
    "a = np.array([1, 2, 3])\n",
    "b = np.array([4, 5, 6])\n",
    "print(a + b)  # Output: [5, 7, 9]\n",
    "print(a * b)  # Output: [4, 10, 18]\n",
    "print(a - b)  # Output: [-3, -3, -3]\n",
    "print(a / b)  # Output: [0.25, 0.4, 0.5]"
   ]
  },
  {
   "cell_type": "code",
   "execution_count": 22,
   "id": "c76026a4",
   "metadata": {},
   "outputs": [
    {
     "name": "stdout",
     "output_type": "stream",
     "text": [
      "[0.84147098 0.90929743 0.14112001]\n",
      "[0.         0.69314718 1.09861229]\n",
      "[1.         1.41421356 1.73205081]\n"
     ]
    }
   ],
   "source": [
    "# Mathematical Functions\n",
    "# NumPy provides a variety of mathematical functions.\n",
    "print(np.sin(a))  # Output: [0.8415, 0.9093, 0.1411]\n",
    "print(np.log(a))  # Output: [0., 0.6931, 1.0986]\n",
    "print(np.sqrt(a))  # Output: [1., 1.4142, 1.7321]"
   ]
  },
  {
   "cell_type": "code",
   "execution_count": null,
   "id": "003fd4f1",
   "metadata": {},
   "outputs": [],
   "source": [
    "# Practice Questions:\n",
    "# 1. Create two NumPy arrays and perform element-wise addition, subtraction, multiplication, and division.\n",
    "# 2. Apply the numpy functions sin(), log(), and sqrt() to a NumPy array."
   ]
  },
  {
   "cell_type": "code",
   "execution_count": 23,
   "id": "5814b2c6-d4f4-4be2-99ec-29ad9ccf247c",
   "metadata": {},
   "outputs": [
    {
     "name": "stdout",
     "output_type": "stream",
     "text": [
      "[12  9  7]\n",
      "[-6 -1  3]\n",
      "[27 20 10]\n",
      "[0.33333333 0.8        2.5       ]\n",
      "[ 0.41211849 -0.95892427  0.90929743]\n",
      "[2.19722458 1.60943791 0.69314718]\n",
      "[3.         2.23606798 1.41421356]\n"
     ]
    }
   ],
   "source": [
    "import numpy as np\n",
    "a = np.array([3,4,5])\n",
    "b = np.array([9,5,2])\n",
    "print(a + b)\n",
    "print(a - b)\n",
    "print(a * b)\n",
    "print(a / b)\n",
    "print(np.sin(b))\n",
    "print(np.log(b))\n",
    "print(np.sqrt(b))"
   ]
  },
  {
   "cell_type": "markdown",
   "id": "f2eaca93",
   "metadata": {},
   "source": [
    "### Generating Data with NumPy\n",
    "\n",
    "- Creating arrays with arange() and linspace()\n",
    "- The arange() function generates an array with a range of values.\n"
   ]
  },
  {
   "cell_type": "code",
   "execution_count": 24,
   "id": "09453263",
   "metadata": {},
   "outputs": [
    {
     "name": "stdout",
     "output_type": "stream",
     "text": [
      "[0 2 4 6 8]\n"
     ]
    }
   ],
   "source": [
    "range_array = np.arange(0, 10, 2)  # Start, stop, step\n",
    "print(range_array)  # Output: [0, 2, 4, 6, 8]"
   ]
  },
  {
   "cell_type": "code",
   "execution_count": 25,
   "id": "5d30fea2",
   "metadata": {},
   "outputs": [
    {
     "name": "stdout",
     "output_type": "stream",
     "text": [
      "[0.   0.25 0.5  0.75 1.  ]\n"
     ]
    }
   ],
   "source": [
    "# The linspace() function generates an array with evenly spaced values.\n",
    "linspace_array = np.linspace(0, 1, 5)  # Start, stop, number of points\n",
    "print(linspace_array)  # Output: [0., 0.25, 0.5, 0.75, 1.]"
   ]
  },
  {
   "cell_type": "code",
   "execution_count": 26,
   "id": "c7d4dd64",
   "metadata": {},
   "outputs": [
    {
     "name": "stdout",
     "output_type": "stream",
     "text": [
      "[[0.85985867 0.48547132 0.88629559]\n",
      " [0.69543608 0.6411744  0.66507651]]\n"
     ]
    }
   ],
   "source": [
    "# Generating random numbers\n",
    "random_array = np.random.random((2, 3))  # 2x3 array of random numbers between 0 and 1\n",
    "print(random_array)"
   ]
  },
  {
   "cell_type": "code",
   "execution_count": null,
   "id": "048ef676",
   "metadata": {},
   "outputs": [],
   "source": [
    "# Practice Questions:\n",
    "# 1. Create an array of numbers from 0 to 20 with a step of 5 using arange().\n",
    "# 2. Create an array of 10 numbers evenly spaced between 0 and 1 using linspace().\n",
    "# 3. Generate a 3x3 array of random numbers between 0 and 1."
   ]
  },
  {
   "cell_type": "code",
   "execution_count": 29,
   "id": "a44551f5-c25d-41ec-864c-f6e0ccaed010",
   "metadata": {},
   "outputs": [
    {
     "name": "stdout",
     "output_type": "stream",
     "text": [
      "[ 0  5 10 15] [0.         0.11111111 0.22222222 0.33333333 0.44444444 0.55555556\n",
      " 0.66666667 0.77777778 0.88888889 1.        ] [[0.2809247  0.94884055 0.47172362]\n",
      " [0.28714175 0.05521619 0.011348  ]\n",
      " [0.3117295  0.6399955  0.55046684]]\n"
     ]
    }
   ],
   "source": [
    "import numpy as np\n",
    "array = np.arange(0, 20, 5)\n",
    "array_1 = np.linspace(0, 1, 10)\n",
    "array_2 = np.random.random((3, 3))\n",
    "\n",
    "print(array, array_1, array_2)"
   ]
  },
  {
   "cell_type": "markdown",
   "id": "50d02ef3",
   "metadata": {},
   "source": [
    "### Statistics with NumPy\n",
    "\n",
    "- NumPy provides various statistical functions to analyze data."
   ]
  },
  {
   "cell_type": "code",
   "execution_count": null,
   "id": "dfadd329",
   "metadata": {},
   "outputs": [],
   "source": [
    "data = np.array([1, 2, 3, 4, 5])\n",
    "\n",
    "# Mean, median, and standard deviation\n",
    "mean = np.mean(data)\n",
    "median = np.median(data)\n",
    "std_dev = np.std(data)\n",
    "print(\"Mean:\", mean)  # Output: Mean: 3.0\n",
    "print(\"Median:\", median)  # Output: Median: 3.0\n",
    "print(\"Standard Deviation:\", std_dev)  # Output: Standard Deviation: 1.4142"
   ]
  },
  {
   "cell_type": "code",
   "execution_count": null,
   "id": "d646e233",
   "metadata": {},
   "outputs": [],
   "source": [
    "# Sum and cumulative sum\n",
    "sum_data = np.sum(data)\n",
    "cumsum_data = np.cumsum(data)\n",
    "print(\"Sum:\", sum_data)  # Output: Sum: 15\n",
    "print(\"Cumulative Sum:\", cumsum_data)  # Output: Cumulative Sum: [ 1  3  6 10 15]"
   ]
  },
  {
   "cell_type": "code",
   "execution_count": null,
   "id": "fb110aa2",
   "metadata": {},
   "outputs": [],
   "source": [
    "# Practice Questions:\n",
    "# 1. Create a NumPy array of random numbers and compute the mean, median, and standard deviation.\n",
    "# 2. Compute the sum and cumulative sum of the array."
   ]
  },
  {
   "cell_type": "code",
   "execution_count": null,
   "id": "636f8249-8a66-4ccd-8ad1-845a3291bcc9",
   "metadata": {},
   "outputs": [],
   "source": [
    "import numpy as np\n",
    "data = np.array([3,4,5,8,9])\n",
    "mean = np.mean(data)\n",
    "median = np.median(data)\n",
    "std_dev = np.std(data)\n",
    "sum_data = np.sum(data)\n",
    "cumsum_data = np.cumsum(data)\n",
    "\n",
    "print('Mean:', mean)\n",
    "print('Median:', median)\n",
    "print('Standard deviation:', std_dev)\n",
    "print('Sum:', sum_data)\n",
    "print('cumulative sum:', cumsum_data)"
   ]
  }
 ],
 "metadata": {
  "kernelspec": {
   "display_name": "Python 3 (ipykernel)",
   "language": "python",
   "name": "python3"
  },
  "language_info": {
   "codemirror_mode": {
    "name": "ipython",
    "version": 3
   },
   "file_extension": ".py",
   "mimetype": "text/x-python",
   "name": "python",
   "nbconvert_exporter": "python",
   "pygments_lexer": "ipython3",
   "version": "3.11.7"
  }
 },
 "nbformat": 4,
 "nbformat_minor": 5
}
