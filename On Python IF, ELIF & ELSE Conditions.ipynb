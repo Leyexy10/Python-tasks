{
 "cells": [
  {
   "cell_type": "markdown",
   "id": "b056569d",
   "metadata": {},
   "source": [
    "# Python IF, ELIF & ELSE Conditions"
   ]
  },
  {
   "cell_type": "markdown",
   "id": "fa308934",
   "metadata": {},
   "source": [
    "###  Python If Condition\n",
    "The if statement allows you to execute a block of code if a condition is True."
   ]
  },
  {
   "cell_type": "code",
   "execution_count": 2,
   "id": "7f2bf653",
   "metadata": {},
   "outputs": [],
   "source": [
    "# Example:\n",
    "x = 10\n",
    "if x > 5:\n",
    "    print(\"x is greater than 5\")"
   ]
  },
  {
   "cell_type": "code",
   "execution_count": 4,
   "id": "2d314f78",
   "metadata": {},
   "outputs": [
    {
     "name": "stdout",
     "output_type": "stream",
     "text": [
      "manageable\n"
     ]
    }
   ],
   "source": [
    "x = 4\n",
    "if x > 5:\n",
    "    print (\"Yes\")\n",
    "elif x == 4:\n",
    "    print(\"manageable\")\n",
    "\n",
    "else:\n",
    "    print (\"no\")"
   ]
  },
  {
   "cell_type": "code",
   "execution_count": null,
   "id": "afc41eab",
   "metadata": {},
   "outputs": [],
   "source": [
    "# Practice Questions:\n",
    "# 1. Write a program that checks if a number is positive. If it is, print \"The number is positive\"."
   ]
  },
  {
   "cell_type": "code",
   "execution_count": 39,
   "id": "eca2cef9-d615-4aab-92e5-eb1088295de1",
   "metadata": {},
   "outputs": [
    {
     "name": "stdout",
     "output_type": "stream",
     "text": [
      "the number is positive\n"
     ]
    }
   ],
   "source": [
    "p = 10\n",
    "if p > 10:\n",
    "    print(\"the number is not positive\")\n",
    "if p == 10:\n",
    "    print(\"the number is positive\")"
   ]
  },
  {
   "cell_type": "markdown",
   "id": "51588c30",
   "metadata": {},
   "source": [
    "### If/Else Condition\n",
    "\n",
    "The if/else statement allows you to execute one block of code if a condition is True, and another block of code if the condition is False."
   ]
  },
  {
   "cell_type": "code",
   "execution_count": null,
   "id": "74ece88a",
   "metadata": {},
   "outputs": [],
   "source": [
    "# Example:\n",
    "y = 3\n",
    "if y % 2 == 0:\n",
    "    print(\"y is even\")\n",
    "else:\n",
    "    print(\"y is odd\")"
   ]
  },
  {
   "cell_type": "code",
   "execution_count": null,
   "id": "25a8f391",
   "metadata": {},
   "outputs": [],
   "source": [
    "# Practice Questions:\n",
    "# 1. Write a program that checks if a number is positive or negative. Print \"Positive\" or \"Negative\"."
   ]
  },
  {
   "cell_type": "code",
   "execution_count": 40,
   "id": "9a0bca7c-bf97-4760-8b79-6c01355f4dce",
   "metadata": {},
   "outputs": [
    {
     "name": "stdout",
     "output_type": "stream",
     "text": [
      "positive\n"
     ]
    }
   ],
   "source": [
    "p = 10\n",
    "if p > 10:\n",
    "    print(\"negative\")\n",
    "if p == 10:\n",
    "        print(\"positive\")"
   ]
  },
  {
   "cell_type": "code",
   "execution_count": null,
   "id": "dd6aeb59",
   "metadata": {},
   "outputs": [],
   "source": [
    "# Example:\n",
    "z = 0\n",
    "if z > 0:\n",
    "    print(\"z is positive\")\n",
    "elif z < 0:\n",
    "    print(\"z is negative\")\n",
    "else:\n",
    "    print(\"z is zero\")"
   ]
  },
  {
   "cell_type": "code",
   "execution_count": null,
   "id": "2e40e36b",
   "metadata": {},
   "outputs": [],
   "source": [
    "# Practice Questions:\n",
    "# 1. Write a program that checks if a number is positive, negative, or zero. Print \"Positive\", \"Negative\", or \"Zero\"."
   ]
  },
  {
   "cell_type": "code",
   "execution_count": 43,
   "id": "69facbb4-9d44-4312-8638-5ce157a1b9fe",
   "metadata": {},
   "outputs": [
    {
     "name": "stdout",
     "output_type": "stream",
     "text": [
      "positive\n"
     ]
    }
   ],
   "source": [
    "p = 10\n",
    "if p > 20:\n",
    "    print(\"negative\")\n",
    "elif p < 15:\n",
    "    print(\"positive\")\n",
    "else:\n",
    "    print(\"zero\")"
   ]
  },
  {
   "cell_type": "markdown",
   "id": "03fe296e",
   "metadata": {},
   "source": [
    "## More Detailed Examples and Explanations"
   ]
  },
  {
   "cell_type": "markdown",
   "id": "a00b61ba",
   "metadata": {},
   "source": [
    "#### 1. If Condition\n",
    "An if statement executes the block of code inside it only if the condition is True."
   ]
  },
  {
   "cell_type": "code",
   "execution_count": null,
   "id": "20e14a6e",
   "metadata": {},
   "outputs": [],
   "source": [
    "temperature = 30\n",
    "if temperature > 25:\n",
    "    print(\"It's hot outside.\")"
   ]
  },
  {
   "cell_type": "code",
   "execution_count": null,
   "id": "4e0e9923",
   "metadata": {},
   "outputs": [],
   "source": [
    "# Practice Questions:\n",
    "# 1. Write a program that prints \"You passed!\" if a student's score is above 50."
   ]
  },
  {
   "cell_type": "code",
   "execution_count": 46,
   "id": "0c7f6869-1ffb-4871-ab58-9a98a2f68920",
   "metadata": {},
   "outputs": [],
   "source": [
    "score = 45\n",
    "if score >50:\n",
    "   print ('You passed')"
   ]
  },
  {
   "cell_type": "markdown",
   "id": "26dcd682",
   "metadata": {},
   "source": [
    "#### 2. If/Else Condition\n",
    "If the condition in the if statement is False, the else block will be executed."
   ]
  },
  {
   "cell_type": "code",
   "execution_count": null,
   "id": "9a310f3e",
   "metadata": {},
   "outputs": [],
   "source": [
    "age = 18\n",
    "if age >= 18:\n",
    "    print(\"You are an adult.\")\n",
    "else:\n",
    "    print(\"You are a minor.\")"
   ]
  },
  {
   "cell_type": "code",
   "execution_count": null,
   "id": "a07e17c2",
   "metadata": {},
   "outputs": [],
   "source": [
    "# Practice Questions:\n",
    "# 1. Write a program that checks if a number is even or odd. Print \"Even\" or \"Odd\"."
   ]
  },
  {
   "cell_type": "code",
   "execution_count": 47,
   "id": "fdf21234-a1ef-417e-a16f-07feb67b8361",
   "metadata": {},
   "outputs": [
    {
     "name": "stdout",
     "output_type": "stream",
     "text": [
      "even\n"
     ]
    }
   ],
   "source": [
    "p = 45\n",
    "if p <= 45:\n",
    "    print(\"even\")\n",
    "else:\n",
    "    print(\"odd\")"
   ]
  },
  {
   "cell_type": "markdown",
   "id": "b0262581",
   "metadata": {},
   "source": [
    "#### 3. If/Elif/Else Condition\n",
    "- If the 'if' condition is False, the elif condition is checked. If it is True, the elif block is executed.\n",
    "- If all conditions are False, the else block is executed."
   ]
  },
  {
   "cell_type": "code",
   "execution_count": 48,
   "id": "109282a9",
   "metadata": {},
   "outputs": [
    {
     "name": "stdout",
     "output_type": "stream",
     "text": [
      "Grade: B\n"
     ]
    }
   ],
   "source": [
    "marks = 85\n",
    "if marks >= 90:\n",
    "    print(\"Grade: A\")\n",
    "elif marks >= 80:\n",
    "    print(\"Grade: B\")\n",
    "elif marks >= 70:\n",
    "    print(\"Grade: C\")\n",
    "elif marks >= 60:\n",
    "    print(\"Grade: D\")\n",
    "else:\n",
    "    print(\"Grade: F\")"
   ]
  },
  {
   "cell_type": "code",
   "execution_count": null,
   "id": "4068ba29",
   "metadata": {},
   "outputs": [],
   "source": [
    "# Practice Questions:\n",
    "# 1. Write a program that assigns grades based on marks using the following criteria:\n",
    "#    - 350 and above: Exceeds Expectation\n",
    "#    - 300 to 349: Outstanding\n",
    "#    - 250 to 299: Acceptable\n",
    "#    - 200 to 249: Fair\n",
    "#    - Below 200: Troll"
   ]
  },
  {
   "cell_type": "code",
   "execution_count": 51,
   "id": "758138bf-a305-41aa-9bdb-b0874be63cf6",
   "metadata": {},
   "outputs": [
    {
     "name": "stdout",
     "output_type": "stream",
     "text": [
      "exceeds expectation\n"
     ]
    }
   ],
   "source": [
    "marks = 400\n",
    "if marks > 350:\n",
    "    print(\"exceeds expectation\")\n",
    "elif marks < 350:\n",
    "    print(\"outstanding\")\n",
    "elif marks < 300:\n",
    "    print(\"acceptable\")\n",
    "elif marks < 250:\n",
    "    print(\"fair\")\n",
    "else:\n",
    "    print(\"troll\")"
   ]
  },
  {
   "cell_type": "markdown",
   "id": "e867cb49",
   "metadata": {},
   "source": [
    "### Nested If Statements\n",
    "You can use nested if statements to check multiple conditions."
   ]
  },
  {
   "cell_type": "code",
   "execution_count": 52,
   "id": "93b4d18c",
   "metadata": {},
   "outputs": [
    {
     "name": "stdout",
     "output_type": "stream",
     "text": [
      "Positive number\n",
      "Odd number\n"
     ]
    }
   ],
   "source": [
    "num = 15\n",
    "if num > 0:\n",
    "    print(\"Positive number\")\n",
    "    if num % 2 == 0:\n",
    "        print(\"Even number\")\n",
    "    else:\n",
    "        print(\"Odd number\")\n",
    "else:\n",
    "    print(\"Negative number\")"
   ]
  },
  {
   "cell_type": "code",
   "execution_count": null,
   "id": "63f492b5",
   "metadata": {},
   "outputs": [],
   "source": [
    "# Practice Questions:\n",
    "# 1. Write a program that checks if a number is positive. If it is, check if it is even or odd."
   ]
  },
  {
   "cell_type": "code",
   "execution_count": 54,
   "id": "9a2d2140-b619-4595-b238-a6a80254ec88",
   "metadata": {},
   "outputs": [
    {
     "name": "stdout",
     "output_type": "stream",
     "text": [
      "positive\n",
      "even\n"
     ]
    }
   ],
   "source": [
    "p = 100\n",
    "if p == 100:\n",
    "    print(\"positive\")\n",
    "    if p > 150:\n",
    "        print(\"odd\")\n",
    "    else:\n",
    "        print(\"even\")\n",
    "else:\n",
    "    print(\"negative\")"
   ]
  },
  {
   "cell_type": "code",
   "execution_count": 24,
   "id": "3492f6ab-dab4-46fc-b949-b7dc5408c458",
   "metadata": {},
   "outputs": [
    {
     "name": "stdout",
     "output_type": "stream",
     "text": [
      "positive number\n",
      "odd number\n"
     ]
    }
   ],
   "source": [
    "num = 6\n",
    "if num > 5:\n",
    "    print ('positive number')\n",
    "    if num % 2==0:\n",
    "        print ('odd number')\n",
    "    else:\n",
    "        print ('even number')\n",
    "\n",
    "else:\n",
    "    print ('negative number')"
   ]
  },
  {
   "cell_type": "markdown",
   "id": "2dc8718e",
   "metadata": {},
   "source": [
    "### Logical Operators with If Conditions\n",
    "You can combine multiple conditions using logical operators like `and`, `or`, and `not`."
   ]
  },
  {
   "cell_type": "code",
   "execution_count": 55,
   "id": "080a0788",
   "metadata": {},
   "outputs": [
    {
     "name": "stdout",
     "output_type": "stream",
     "text": [
      "You are eligible to work.\n"
     ]
    }
   ],
   "source": [
    "age = 20\n",
    "if age >= 18 and age <= 65:\n",
    "    print(\"You are eligible to work.\")\n",
    "else:\n",
    "    print(\"You are not eligible to work.\")"
   ]
  },
  {
   "cell_type": "code",
   "execution_count": null,
   "id": "551e1468",
   "metadata": {},
   "outputs": [],
   "source": [
    "# Practice Questions:\n",
    "# 1. Write a program that checks if a number is between 10 and 20, inclusive."
   ]
  },
  {
   "cell_type": "code",
   "execution_count": 59,
   "id": "367e557e-c6b4-47e8-84b8-db8e654c8e22",
   "metadata": {},
   "outputs": [
    {
     "ename": "SyntaxError",
     "evalue": "invalid syntax (1101203921.py, line 2)",
     "output_type": "error",
     "traceback": [
      "\u001b[1;36m  Cell \u001b[1;32mIn[59], line 2\u001b[1;36m\u001b[0m\n\u001b[1;33m    if num >= 10 and num is <= 20:\u001b[0m\n\u001b[1;37m                            ^\u001b[0m\n\u001b[1;31mSyntaxError\u001b[0m\u001b[1;31m:\u001b[0m invalid syntax\n"
     ]
    }
   ],
   "source": [
    "num = 39\n",
    "if num >= 10 and num is <= 20:\n",
    "    print(\"inclusive\")\n",
    "else:\n",
    "    print(\"not inclusive\")"
   ]
  },
  {
   "cell_type": "code",
   "execution_count": 27,
   "id": "da3a6ca4-9793-48a3-a2e6-d72f2782eec6",
   "metadata": {},
   "outputs": [
    {
     "name": "stdout",
     "output_type": "stream",
     "text": [
      "you are not eligible to participate\n"
     ]
    }
   ],
   "source": [
    "age=52\n",
    "if age >= 10 and age <=20:\n",
    "    print('you are eligible to participate')\n",
    "\n",
    "else:\n",
    "    print('you are not eligible to participate')"
   ]
  },
  {
   "cell_type": "markdown",
   "id": "5fef183c",
   "metadata": {},
   "source": [
    "### Using If Conditions with Strings\n",
    "You can use if conditions to compare strings."
   ]
  },
  {
   "cell_type": "code",
   "execution_count": null,
   "id": "7da3a75b",
   "metadata": {},
   "outputs": [],
   "source": [
    "password = \"secure123\"\n",
    "if password == \"secure123\":\n",
    "    print(\"Access granted\")\n",
    "else:\n",
    "    print(\"Access denied\")"
   ]
  },
  {
   "cell_type": "code",
   "execution_count": null,
   "id": "a48f82df",
   "metadata": {},
   "outputs": [],
   "source": [
    "# Practice Questions:\n",
    "# 1. Write a program that checks if a given string matches your username and prints \"Username correct\" or \"Username incorrect\"."
   ]
  },
  {
   "cell_type": "code",
   "execution_count": 34,
   "id": "40345816-c6a2-4543-be89-29277c753f3d",
   "metadata": {},
   "outputs": [
    {
     "name": "stdout",
     "output_type": "stream",
     "text": [
      "Access granted\n"
     ]
    }
   ],
   "source": [
    "password='Okeleye123'\n",
    "if password=='Okeleye123':\n",
    "    print ('Access granted')\n",
    "else:\n",
    "    print('Access denied')"
   ]
  },
  {
   "cell_type": "markdown",
   "id": "2dc2f5ef",
   "metadata": {},
   "source": [
    "### Combining Conditions\n",
    "You can combine multiple conditions using nested if statements and logical operators."
   ]
  },
  {
   "cell_type": "code",
   "execution_count": null,
   "id": "e5e02edd",
   "metadata": {},
   "outputs": [],
   "source": [
    "time = 14\n",
    "if time < 12:\n",
    "    print(\"Good morning!\")\n",
    "elif time < 18:\n",
    "    print(\"Good afternoon!\")\n",
    "else:\n",
    "    print(\"Good evening!\")"
   ]
  },
  {
   "cell_type": "code",
   "execution_count": null,
   "id": "d3b8ac9b",
   "metadata": {},
   "outputs": [],
   "source": [
    "# Practice Questions:\n",
    "# 1. Write a program that prints a greeting based on the time of day:\n",
    "#    - Before 12: \"Good morning!\"\n",
    "#    - Between 12 and 18: \"Good afternoon!\"\n",
    "#    - After 18: \"Good evening!\"\n"
   ]
  },
  {
   "cell_type": "code",
   "execution_count": null,
   "id": "c5675fde-8624-4445-924c-283a999cd13f",
   "metadata": {},
   "outputs": [],
   "source": [
    "time = 9\n",
    "if time < 12:\n",
    "    print(\"good morning!\")\n",
    "elif time <= 18:\n",
    "    print(\"good afternoon!\")\n",
    "else:\n",
    "    print(\"good evening!\")"
   ]
  }
 ],
 "metadata": {
  "kernelspec": {
   "display_name": "Python 3 (ipykernel)",
   "language": "python",
   "name": "python3"
  },
  "language_info": {
   "codemirror_mode": {
    "name": "ipython",
    "version": 3
   },
   "file_extension": ".py",
   "mimetype": "text/x-python",
   "name": "python",
   "nbconvert_exporter": "python",
   "pygments_lexer": "ipython3",
   "version": "3.11.7"
  }
 },
 "nbformat": 4,
 "nbformat_minor": 5
}
